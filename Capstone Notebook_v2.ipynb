{
 "cells": [
  {
   "cell_type": "markdown",
   "metadata": {},
   "source": [
    "# Capstone Notebook v2"
   ]
  },
  {
   "cell_type": "code",
   "execution_count": 1,
   "metadata": {},
   "outputs": [],
   "source": [
    "import numpy as np; import pandas as pd ; import json\n",
    "from geopy.geocoders import Nominatim; import requests\n",
    "from pandas.io.json import json_normalize; import foursquare"
   ]
  },
  {
   "cell_type": "markdown",
   "metadata": {},
   "source": [
    "### Get geospatial data"
   ]
  },
  {
   "cell_type": "code",
   "execution_count": 2,
   "metadata": {},
   "outputs": [
    {
     "name": "stdout",
     "output_type": "stream",
     "text": [
      "The geograpical coordinate of Atlanta are 33.7490987, -84.3901849.\n"
     ]
    }
   ],
   "source": [
    "address = 'Atlanta, GA'\n",
    "\n",
    "geolocator = Nominatim(user_agent=\"atl_explorer\")\n",
    "location = geolocator.geocode(address)\n",
    "latitude = location.latitude\n",
    "longitude = location.longitude\n",
    "print('The geograpical coordinate of Atlanta are {}, {}.'.format(latitude, longitude))"
   ]
  },
  {
   "cell_type": "markdown",
   "metadata": {},
   "source": [
    "### Define Foursquare API credentials and get results"
   ]
  },
  {
   "cell_type": "code",
   "execution_count": 3,
   "metadata": {},
   "outputs": [],
   "source": [
    "CLIENT_ID = 'PKGNYCMU0KCBLQRPB5X1RH4EO3K4IDXVZ4QHQ1AVJFQ1AQ5G' # your Foursquare ID\n",
    "CLIENT_SECRET = 'LYTUHFXEFHNJCHO3PZ2JCCTWWDFVC2UCKEJFEWQKL0LZKKQ5' # your Foursquare Secret\n",
    "VERSION = '20180605' # Foursquare API version\n",
    "LIMIT = 100 # A default Foursquare API limit value\n",
    "radius = 2000\n",
    "\n",
    "# Foursqaure URL \n",
    "url = 'https://api.foursquare.com/v2/venues/explore?&client_id={}&client_secret={}&v={}&ll={},{}&radius={}&limit={}'.format(\n",
    "    CLIENT_ID, \n",
    "    CLIENT_SECRET, \n",
    "    VERSION, \n",
    "    latitude, \n",
    "    longitude, \n",
    "    radius, \n",
    "    LIMIT)\n",
    "url\n",
    "results = requests.get(url).json()"
   ]
  },
  {
   "cell_type": "markdown",
   "metadata": {},
   "source": [
    "### Turn data into a dataframe"
   ]
  },
  {
   "cell_type": "code",
   "execution_count": 4,
   "metadata": {},
   "outputs": [
    {
     "name": "stderr",
     "output_type": "stream",
     "text": [
      "<ipython-input-4-c613c4ab3fdb>:13: FutureWarning: pandas.io.json.json_normalize is deprecated, use pandas.json_normalize instead\n",
      "  nearby_venues = json_normalize(venues)\n"
     ]
    }
   ],
   "source": [
    "def get_category_type(row):\n",
    "    try:\n",
    "        categories_list = row['categories']\n",
    "    except:\n",
    "        categories_list = row['venue.categories']\n",
    "        \n",
    "    if len(categories_list) == 0:\n",
    "        return None\n",
    "    else:\n",
    "        return categories_list[0]['name']\n",
    "    \n",
    "venues = results['response']['groups'][0]['items']\n",
    "nearby_venues = json_normalize(venues)\n",
    "filtered_columns = ['venue.name', 'venue.id', 'venue.categories', 'venue.location.lat', 'venue.location.lng']\n",
    "nearby_venues\n",
    "nearby_venues =nearby_venues.loc[:, filtered_columns]\n",
    "\n",
    "nearby_venues['venue.categories'] = \\\n",
    "    nearby_venues.apply(get_category_type, axis=1) #filter the category for each row\n",
    "nearby_venues.columns = \\\n",
    "    [col.split(\".\")[-1] for col in nearby_venues.columns] #change column headers"
   ]
  },
  {
   "cell_type": "code",
   "execution_count": 5,
   "metadata": {},
   "outputs": [
    {
     "data": {
      "text/html": [
       "<div>\n",
       "<style scoped>\n",
       "    .dataframe tbody tr th:only-of-type {\n",
       "        vertical-align: middle;\n",
       "    }\n",
       "\n",
       "    .dataframe tbody tr th {\n",
       "        vertical-align: top;\n",
       "    }\n",
       "\n",
       "    .dataframe thead th {\n",
       "        text-align: right;\n",
       "    }\n",
       "</style>\n",
       "<table border=\"1\" class=\"dataframe\">\n",
       "  <thead>\n",
       "    <tr style=\"text-align: right;\">\n",
       "      <th></th>\n",
       "      <th>name</th>\n",
       "      <th>id</th>\n",
       "      <th>categories</th>\n",
       "      <th>lat</th>\n",
       "      <th>lng</th>\n",
       "    </tr>\n",
       "  </thead>\n",
       "  <tbody>\n",
       "    <tr>\n",
       "      <th>0</th>\n",
       "      <td>The Masquerade</td>\n",
       "      <td>40e0b100f964a520e9061fe3</td>\n",
       "      <td>Music Venue</td>\n",
       "      <td>33.751720</td>\n",
       "      <td>-84.389739</td>\n",
       "    </tr>\n",
       "    <tr>\n",
       "      <th>1</th>\n",
       "      <td>Jamrock Restaurant</td>\n",
       "      <td>4c40e04eaf052d7f16817c79</td>\n",
       "      <td>Caribbean Restaurant</td>\n",
       "      <td>33.751554</td>\n",
       "      <td>-84.391356</td>\n",
       "    </tr>\n",
       "    <tr>\n",
       "      <th>2</th>\n",
       "      <td>Ebrik Coffee Room</td>\n",
       "      <td>5303ba1a498e8936e10f0c4a</td>\n",
       "      <td>Coffee Shop</td>\n",
       "      <td>33.753897</td>\n",
       "      <td>-84.388782</td>\n",
       "    </tr>\n",
       "    <tr>\n",
       "      <th>3</th>\n",
       "      <td>Fish Bowl Poké</td>\n",
       "      <td>57d42371498ebd10aa19e10b</td>\n",
       "      <td>Poke Place</td>\n",
       "      <td>33.755727</td>\n",
       "      <td>-84.389400</td>\n",
       "    </tr>\n",
       "    <tr>\n",
       "      <th>4</th>\n",
       "      <td>Wine Shoe</td>\n",
       "      <td>4b0dd396f964a520de5023e3</td>\n",
       "      <td>Wine Shop</td>\n",
       "      <td>33.751559</td>\n",
       "      <td>-84.398937</td>\n",
       "    </tr>\n",
       "  </tbody>\n",
       "</table>\n",
       "</div>"
      ],
      "text/plain": [
       "                 name                        id            categories  \\\n",
       "0      The Masquerade  40e0b100f964a520e9061fe3           Music Venue   \n",
       "1  Jamrock Restaurant  4c40e04eaf052d7f16817c79  Caribbean Restaurant   \n",
       "2   Ebrik Coffee Room  5303ba1a498e8936e10f0c4a           Coffee Shop   \n",
       "3      Fish Bowl Poké  57d42371498ebd10aa19e10b            Poke Place   \n",
       "4           Wine Shoe  4b0dd396f964a520de5023e3             Wine Shop   \n",
       "\n",
       "         lat        lng  \n",
       "0  33.751720 -84.389739  \n",
       "1  33.751554 -84.391356  \n",
       "2  33.753897 -84.388782  \n",
       "3  33.755727 -84.389400  \n",
       "4  33.751559 -84.398937  "
      ]
     },
     "execution_count": 5,
     "metadata": {},
     "output_type": "execute_result"
    }
   ],
   "source": [
    "nearby_venues.head()"
   ]
  },
  {
   "cell_type": "markdown",
   "metadata": {},
   "source": [
    "## Data pre-processing"
   ]
  },
  {
   "cell_type": "code",
   "execution_count": 6,
   "metadata": {},
   "outputs": [
    {
     "data": {
      "text/plain": [
       "array(['Music Venue', 'Caribbean Restaurant', 'Coffee Shop', 'Poke Place',\n",
       "       'Wine Shop', 'Deli / Bodega', 'Pharmacy',\n",
       "       'College Basketball Court', 'Korean Restaurant', 'Hookah Bar',\n",
       "       'Gym', 'Vietnamese Restaurant', 'Burger Joint', 'Greek Restaurant',\n",
       "       'Dive Bar', 'Basketball Stadium', 'Art Gallery', 'Farmers Market',\n",
       "       'Mexican Restaurant', 'Sushi Restaurant', 'Football Stadium',\n",
       "       'Historic Site', 'Outdoor Sculpture', 'Fast Food Restaurant',\n",
       "       'Performing Arts Venue', 'Moving Target', 'Sports Club',\n",
       "       'Juice Bar', 'BBQ Joint', 'Strip Club', 'Park',\n",
       "       'Mediterranean Restaurant', 'Arepa Restaurant',\n",
       "       'Latin American Restaurant', 'Museum', 'English Restaurant',\n",
       "       'Neighborhood', 'Café', 'Indian Restaurant', 'Bar', 'Pizza Place',\n",
       "       'Sports Bar', 'Fountain', 'Tea Room', 'Theater',\n",
       "       'Convention Center', 'Cajun / Creole Restaurant',\n",
       "       'American Restaurant', 'Candy Store', 'Cemetery',\n",
       "       'Seafood Restaurant', 'Hotel', 'Theme Park Ride / Attraction',\n",
       "       'Fried Chicken Joint', 'Steakhouse', 'General Entertainment',\n",
       "       'Breakfast Spot', 'Aquarium', 'Brewery',\n",
       "       'Southern / Soul Food Restaurant', 'Escape Room', 'Sandwich Place',\n",
       "       'History Museum', 'Lounge', 'Comedy Club', 'Beer Bar', 'Bakery',\n",
       "       'New American Restaurant', 'Indian Chinese Restaurant',\n",
       "       'Taco Place', 'Parking', 'Hotel Bar'], dtype=object)"
      ]
     },
     "execution_count": 6,
     "metadata": {},
     "output_type": "execute_result"
    }
   ],
   "source": [
    "nearby_venues['categories'].unique()"
   ]
  },
  {
   "cell_type": "markdown",
   "metadata": {},
   "source": [
    "### Filter dataframe to only include restaurants and bars"
   ]
  },
  {
   "cell_type": "code",
   "execution_count": 7,
   "metadata": {},
   "outputs": [
    {
     "data": {
      "text/html": [
       "<div>\n",
       "<style scoped>\n",
       "    .dataframe tbody tr th:only-of-type {\n",
       "        vertical-align: middle;\n",
       "    }\n",
       "\n",
       "    .dataframe tbody tr th {\n",
       "        vertical-align: top;\n",
       "    }\n",
       "\n",
       "    .dataframe thead th {\n",
       "        text-align: right;\n",
       "    }\n",
       "</style>\n",
       "<table border=\"1\" class=\"dataframe\">\n",
       "  <thead>\n",
       "    <tr style=\"text-align: right;\">\n",
       "      <th></th>\n",
       "      <th>name</th>\n",
       "      <th>id</th>\n",
       "      <th>categories</th>\n",
       "    </tr>\n",
       "  </thead>\n",
       "  <tbody>\n",
       "    <tr>\n",
       "      <th>0</th>\n",
       "      <td>Jamrock Restaurant</td>\n",
       "      <td>4c40e04eaf052d7f16817c79</td>\n",
       "      <td>Caribbean Restaurant</td>\n",
       "    </tr>\n",
       "    <tr>\n",
       "      <th>1</th>\n",
       "      <td>Fish Bowl Poké</td>\n",
       "      <td>57d42371498ebd10aa19e10b</td>\n",
       "      <td>Poke Place</td>\n",
       "    </tr>\n",
       "    <tr>\n",
       "      <th>2</th>\n",
       "      <td>Reuben's Deli</td>\n",
       "      <td>4a89913bf964a5206d0820e3</td>\n",
       "      <td>Deli / Bodega</td>\n",
       "    </tr>\n",
       "    <tr>\n",
       "      <th>3</th>\n",
       "      <td>Blossom Tree</td>\n",
       "      <td>4d920f119d0f721e6b692473</td>\n",
       "      <td>Korean Restaurant</td>\n",
       "    </tr>\n",
       "    <tr>\n",
       "      <th>4</th>\n",
       "      <td>Anatolia Cafe &amp; Hookah Lounge</td>\n",
       "      <td>4b6315eaf964a520e8612ae3</td>\n",
       "      <td>Hookah Bar</td>\n",
       "    </tr>\n",
       "  </tbody>\n",
       "</table>\n",
       "</div>"
      ],
      "text/plain": [
       "                            name                        id  \\\n",
       "0             Jamrock Restaurant  4c40e04eaf052d7f16817c79   \n",
       "1                 Fish Bowl Poké  57d42371498ebd10aa19e10b   \n",
       "2                  Reuben's Deli  4a89913bf964a5206d0820e3   \n",
       "3                   Blossom Tree  4d920f119d0f721e6b692473   \n",
       "4  Anatolia Cafe & Hookah Lounge  4b6315eaf964a520e8612ae3   \n",
       "\n",
       "             categories  \n",
       "0  Caribbean Restaurant  \n",
       "1            Poke Place  \n",
       "2         Deli / Bodega  \n",
       "3     Korean Restaurant  \n",
       "4            Hookah Bar  "
      ]
     },
     "execution_count": 7,
     "metadata": {},
     "output_type": "execute_result"
    }
   ],
   "source": [
    "venues_df = nearby_venues\n",
    "venues_df = venues_df.drop([0,2,4,6,7,10,14,15,18,22,23,24,\n",
    "                                26,28,29,30,31,34,37,39,41,42,46,\n",
    "                                47,48,49,52,53,58,59,61,62,63,\n",
    "                                66,68,70,71,74,75,76,78,79,85,89,\n",
    "                                90,93,98,69,77,97]) \n",
    "venues_df.reset_index(drop=True,inplace=True)\n",
    "venues_df = venues_df.drop(['lat','lng'], axis=1) #drop latitude and longitude columns\n",
    "venues_df.head()"
   ]
  },
  {
   "cell_type": "markdown",
   "metadata": {},
   "source": [
    "### Add new columns describing each restaurants, to use for feature sets in clustering"
   ]
  },
  {
   "cell_type": "markdown",
   "metadata": {},
   "source": [
    "Use the Python Foursquare package"
   ]
  },
  {
   "cell_type": "code",
   "execution_count": 8,
   "metadata": {},
   "outputs": [],
   "source": [
    "client = foursquare.Foursquare(client_id='PKGNYCMU0KCBLQRPB5X1RH4EO3K4IDXVZ4QHQ1AVJFQ1AQ5G', \n",
    "                               client_secret='LYTUHFXEFHNJCHO3PZ2JCCTWWDFVC2UCKEJFEWQKL0LZKKQ5')\n",
    "\n",
    "# Get likes, ratings, tips, and photos data of each venue \n",
    "like_list = []\n",
    "for i in venues_df['id']:\n",
    "    likes_dict = client.venues.likes(i)\n",
    "    like_list.append(likes_dict['likes']['count'])\n",
    "\n",
    "ratings_list = []\n",
    "for i in venues_df['id']:\n",
    "    ratings_dict = client.venues(i)\n",
    "    ratings_list.append(ratings_dict['venue']['rating'])\n",
    "    \n",
    "photos_list = []\n",
    "for i in venues_df['id']:\n",
    "    photos_dict = client.venues(i)\n",
    "    photos_list.append(photos_dict['venue']['photos']['count'])\n"
   ]
  },
  {
   "cell_type": "markdown",
   "metadata": {},
   "source": [
    "Add new data columns to dataframe"
   ]
  },
  {
   "cell_type": "code",
   "execution_count": 18,
   "metadata": {},
   "outputs": [
    {
     "data": {
      "text/html": [
       "<div>\n",
       "<style scoped>\n",
       "    .dataframe tbody tr th:only-of-type {\n",
       "        vertical-align: middle;\n",
       "    }\n",
       "\n",
       "    .dataframe tbody tr th {\n",
       "        vertical-align: top;\n",
       "    }\n",
       "\n",
       "    .dataframe thead th {\n",
       "        text-align: right;\n",
       "    }\n",
       "</style>\n",
       "<table border=\"1\" class=\"dataframe\">\n",
       "  <thead>\n",
       "    <tr style=\"text-align: right;\">\n",
       "      <th></th>\n",
       "      <th>name</th>\n",
       "      <th>id</th>\n",
       "      <th>categories</th>\n",
       "      <th>rating</th>\n",
       "      <th>likes</th>\n",
       "      <th>photos</th>\n",
       "    </tr>\n",
       "  </thead>\n",
       "  <tbody>\n",
       "    <tr>\n",
       "      <th>0</th>\n",
       "      <td>Jamrock Restaurant</td>\n",
       "      <td>4c40e04eaf052d7f16817c79</td>\n",
       "      <td>Caribbean Restaurant</td>\n",
       "      <td>8.0</td>\n",
       "      <td>19</td>\n",
       "      <td>14</td>\n",
       "    </tr>\n",
       "    <tr>\n",
       "      <th>1</th>\n",
       "      <td>Fish Bowl Poké</td>\n",
       "      <td>57d42371498ebd10aa19e10b</td>\n",
       "      <td>Poke Place</td>\n",
       "      <td>8.7</td>\n",
       "      <td>24</td>\n",
       "      <td>11</td>\n",
       "    </tr>\n",
       "    <tr>\n",
       "      <th>2</th>\n",
       "      <td>Reuben's Deli</td>\n",
       "      <td>4a89913bf964a5206d0820e3</td>\n",
       "      <td>Deli / Bodega</td>\n",
       "      <td>8.6</td>\n",
       "      <td>58</td>\n",
       "      <td>66</td>\n",
       "    </tr>\n",
       "    <tr>\n",
       "      <th>3</th>\n",
       "      <td>Blossom Tree</td>\n",
       "      <td>4d920f119d0f721e6b692473</td>\n",
       "      <td>Korean Restaurant</td>\n",
       "      <td>8.4</td>\n",
       "      <td>57</td>\n",
       "      <td>62</td>\n",
       "    </tr>\n",
       "    <tr>\n",
       "      <th>4</th>\n",
       "      <td>Anatolia Cafe &amp; Hookah Lounge</td>\n",
       "      <td>4b6315eaf964a520e8612ae3</td>\n",
       "      <td>Hookah Bar</td>\n",
       "      <td>8.3</td>\n",
       "      <td>146</td>\n",
       "      <td>194</td>\n",
       "    </tr>\n",
       "  </tbody>\n",
       "</table>\n",
       "</div>"
      ],
      "text/plain": [
       "                            name                        id  \\\n",
       "0             Jamrock Restaurant  4c40e04eaf052d7f16817c79   \n",
       "1                 Fish Bowl Poké  57d42371498ebd10aa19e10b   \n",
       "2                  Reuben's Deli  4a89913bf964a5206d0820e3   \n",
       "3                   Blossom Tree  4d920f119d0f721e6b692473   \n",
       "4  Anatolia Cafe & Hookah Lounge  4b6315eaf964a520e8612ae3   \n",
       "\n",
       "             categories  rating  likes  photos  \n",
       "0  Caribbean Restaurant     8.0     19      14  \n",
       "1            Poke Place     8.7     24      11  \n",
       "2         Deli / Bodega     8.6     58      66  \n",
       "3     Korean Restaurant     8.4     57      62  \n",
       "4            Hookah Bar     8.3    146     194  "
      ]
     },
     "execution_count": 18,
     "metadata": {},
     "output_type": "execute_result"
    }
   ],
   "source": [
    "venues_df['rating'] = ratings_list\n",
    "venues_df['likes'] = like_list\n",
    "venues_df['photos'] = photos_list\n",
    "\n",
    "venues_df.head()"
   ]
  },
  {
   "cell_type": "markdown",
   "metadata": {},
   "source": [
    "  "
   ]
  },
  {
   "cell_type": "markdown",
   "metadata": {},
   "source": [
    "## Exploratory Data Analysis "
   ]
  },
  {
   "cell_type": "markdown",
   "metadata": {},
   "source": [
    "The relationship betweeen likes and rating:"
   ]
  },
  {
   "cell_type": "code",
   "execution_count": 32,
   "metadata": {},
   "outputs": [
    {
     "data": {
      "image/png": "[encoded data removed]",
      "text/plain": [
       "<Figure size 432x288 with 1 Axes>"
      ]
     },
     "metadata": {
      "needs_background": "light"
     },
     "output_type": "display_data"
    }
   ],
   "source": [
    "import matplotlib.pyplot \n",
    "df1 = venues_df[['rating','likes']]\n",
    "\n",
    "# Visualize data with a scatterplot\n",
    "plt.scatter(df1[\"rating\"],df1[\"likes\"],c='black')\n",
    "plt.xlabel('Ratings')\n",
    "plt.ylabel('Likes')\n",
    "plt.yticks(np.arange(0, 100, 10))\n",
    "plt.show()"
   ]
  },
  {
   "cell_type": "markdown",
   "metadata": {},
   "source": [
    "The relationship between number of photos and rating:"
   ]
  },
  {
   "cell_type": "code",
   "execution_count": 26,
   "metadata": {},
   "outputs": [
    {
     "data": {
      "image/png": "[encoded data removed]",
      "text/plain": [
       "<Figure size 432x288 with 1 Axes>"
      ]
     },
     "metadata": {
      "needs_background": "light"
     },
     "output_type": "display_data"
    }
   ],
   "source": [
    "df2 = venues_df[['rating','photos']]\n",
    "\n",
    "# Visualize data with a scatterplot\n",
    "plt.scatter(df2[\"rating\"],df2[\"photos\"],c='black')\n",
    "plt.xlabel('Ratings')\n",
    "plt.ylabel('Photos')\n",
    "plt.show()"
   ]
  },
  {
   "cell_type": "markdown",
   "metadata": {},
   "source": [
    "For both variables photos and likes, there doesn't seem to be a clear relationship with rating."
   ]
  },
  {
   "cell_type": "markdown",
   "metadata": {},
   "source": [
    " "
   ]
  },
  {
   "cell_type": "markdown",
   "metadata": {},
   "source": [
    "## Clustering"
   ]
  },
  {
   "cell_type": "code",
   "execution_count": 27,
   "metadata": {},
   "outputs": [
    {
     "name": "stdout",
     "output_type": "stream",
     "text": [
      "Packages imported\n"
     ]
    },
    {
     "name": "stderr",
     "output_type": "stream",
     "text": [
      "C:\\Anaconda\\lib\\site-packages\\sklearn\\utils\\deprecation.py:143: FutureWarning: The sklearn.datasets.samples_generator module is  deprecated in version 0.22 and will be removed in version 0.24. The corresponding classes / functions should instead be imported from sklearn.datasets. Anything that cannot be imported from sklearn.datasets is now part of the private API.\n",
      "  warnings.warn(message, FutureWarning)\n"
     ]
    }
   ],
   "source": [
    "from sklearn.cluster import KMeans \n",
    "from sklearn.datasets.samples_generator import make_blobs\n",
    "from sklearn.preprocessing import StandardScaler\n",
    "print('Packages imported')"
   ]
  },
  {
   "cell_type": "code",
   "execution_count": 34,
   "metadata": {},
   "outputs": [
    {
     "data": {
      "text/plain": [
       "array([[-7.50429859e-01, -4.02341769e-01, -3.09804226e-01],\n",
       "       [ 8.80939400e-01, -3.88242324e-01, -3.12871595e-01],\n",
       "       [ 6.47886649e-01, -2.92366096e-01, -2.56636504e-01],\n",
       "       [ 1.81781146e-01, -2.95185985e-01, -2.60726329e-01],\n",
       "       [-5.12716053e-02, -4.42158602e-02, -1.25762112e-01],\n",
       "       [-5.12716053e-02, -1.54191533e-01, -1.81997202e-01],\n",
       "       [-5.17377108e-01, -4.33360549e-01, -3.22073700e-01],\n",
       "       [ 1.34704490e+00, -2.35968315e-01, -2.56636504e-01],\n",
       "       [ 1.34704490e+00,  4.16587849e+00,  5.26667184e+00],\n",
       "       [ 1.81781146e-01, -4.24900881e-01, -3.06736857e-01],\n",
       "       [ 1.58009765e+00,  3.30829383e-01, -3.98757915e-02],\n",
       "       [ 4.14833897e-01, -3.88242324e-01, -3.12871595e-01],\n",
       "       [-5.17377108e-01, -4.07981547e-01, -3.01624576e-01],\n",
       "       [ 1.58009765e+00, -2.98005874e-01, -2.62771241e-01],\n",
       "       [-5.17377108e-01, -2.75446762e-01, -1.18604918e-01],\n",
       "       [ 1.81781146e-01,  9.36203163e-03, -1.02245619e-01],\n",
       "       [-1.21653536e+00, -1.76750645e-01, -3.24118613e-01],\n",
       "       [ 2.51230866e+00, -1.06253419e-01, -2.59703873e-01],\n",
       "       [ 4.14833897e-01, -4.24900881e-01, -3.21051244e-01],\n",
       "       [ 4.14833897e-01,  3.11090160e-01, -5.11228096e-03],\n",
       "       [ 1.81781146e-01, -4.27720771e-01, -2.74018259e-01],\n",
       "       [-1.21653536e+00, -2.04949536e-01, -2.48456855e-01],\n",
       "       [ 1.81781146e-01, -3.23384876e-01, -2.66861066e-01],\n",
       "       [-1.21653536e+00, -2.98005874e-01, -2.44367030e-01],\n",
       "       [-9.83482611e-01, -4.22080992e-01, -2.80152996e-01],\n",
       "       [ 1.34704490e+00, -2.72626873e-01, -1.13492637e-01],\n",
       "       [-7.50429859e-01, -4.02341769e-01, -2.95489839e-01],\n",
       "       [ 1.81315041e+00, -3.99521880e-01, -2.94467383e-01],\n",
       "       [-7.50429859e-01,  3.36469161e-01,  8.17964953e-03],\n",
       "       [-7.50429859e-01, -2.13409203e-01, -1.60525622e-01],\n",
       "       [-7.50429859e-01, -2.13409203e-01, -2.41299661e-01],\n",
       "       [-2.84324357e-01, -1.14713086e-01, -2.12670888e-01],\n",
       "       [-5.12716053e-02, -2.13409203e-01, -1.90176852e-01],\n",
       "       [ 1.34704490e+00,  4.69003946e-01,  9.40659696e-02],\n",
       "       [-1.68264086e+00, -3.40304210e-01, -2.45389486e-01],\n",
       "       [-9.83482611e-01, -4.16441214e-01, -3.15938963e-01],\n",
       "       [ 1.11399215e+00,  1.13167787e+00,  3.79331247e-01],\n",
       "       [ 1.11399215e+00, -3.60043433e-01, -2.55614048e-01],\n",
       "       [ 1.11399215e+00, -3.00825763e-01, -2.71973347e-01],\n",
       "       [-1.21653536e+00, -4.33360549e-01, -3.22073700e-01],\n",
       "       [-1.21653536e+00, -4.39000327e-01, -3.14916507e-01],\n",
       "       [-5.17377108e-01, -4.30540660e-01, -2.91400015e-01],\n",
       "       [-9.83482611e-01, -4.16441214e-01, -2.85265277e-01],\n",
       "       [-7.50429859e-01, -2.72626873e-01, -2.64816154e-01],\n",
       "       [ 1.81781146e-01,  3.78767497e-01,  5.01003534e-02],\n",
       "       [-1.21653536e+00, -3.54403655e-01, -1.95289133e-01],\n",
       "       [ 1.81781146e-01,  5.07106287e+00,  4.37713496e+00],\n",
       "       [ 6.47886649e-01,  6.32557511e-01,  3.41500368e-01],\n",
       "       [-1.68264086e+00, -3.99521880e-01, -2.32097555e-01],\n",
       "       [-2.84324357e-01, -4.19261103e-01, -3.19006332e-01]])"
      ]
     },
     "execution_count": 34,
     "metadata": {},
     "output_type": "execute_result"
    }
   ],
   "source": [
    "from sklearn.preprocessing import StandardScaler\n",
    "venues_df = venues_df.drop(['name','id','categories'], axis=1)\n",
    "norm_venues = StandardScaler().fit_transform(venues_df)\n",
    "norm_venues"
   ]
  },
  {
   "cell_type": "code",
   "execution_count": 37,
   "metadata": {},
   "outputs": [
    {
     "name": "stdout",
     "output_type": "stream",
     "text": [
      "[0 0 0 0 0 0 0 0 1 0 0 0 0 0 0 0 0 0 0 0 0 0 0 0 0 0 0 0 0 0 0 0 0 0 0 0 0\n",
      " 0 0 0 0 0 0 0 0 0 1 0 0 0]\n"
     ]
    }
   ],
   "source": [
    "num_clusters = 2\n",
    "\n",
    "k_means = KMeans(init=\"k-means++\", n_clusters=num_clusters, n_init=12)\n",
    "k_means.fit(norm_venues)\n",
    "labels = k_means.labels_\n",
    "print(labels)"
   ]
  },
  {
   "cell_type": "code",
   "execution_count": null,
   "metadata": {},
   "outputs": [],
   "source": []
  }
 ],
 "metadata": {
  "kernelspec": {
   "display_name": "Python 3",
   "language": "python",
   "name": "python3"
  },
  "language_info": {
   "codemirror_mode": {
    "name": "ipython",
    "version": 3
   },
   "file_extension": ".py",
   "mimetype": "text/x-python",
   "name": "python",
   "nbconvert_exporter": "python",
   "pygments_lexer": "ipython3",
   "version": "3.8.3"
  }
 },
 "nbformat": 4,
 "nbformat_minor": 4
}
